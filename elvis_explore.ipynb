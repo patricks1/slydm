{
 "cells": [
  {
   "cell_type": "code",
   "execution_count": 66,
   "id": "according-cross",
   "metadata": {},
   "outputs": [],
   "source": [
    "import h5py\n",
    "import numpy as np\n",
    "from dm_den import analyze"
   ]
  },
  {
   "cell_type": "code",
   "execution_count": 85,
   "id": "painted-detector",
   "metadata": {
    "scrolled": false
   },
   "outputs": [
    {
     "name": "stdout",
     "output_type": "stream",
     "text": [
      "_elvis_RomeoJuliet\n",
      "5 largest masses:\n",
      "[2.83132363e+11 3.02999994e+11 3.10794125e+11 8.52602913e+11\n",
      " 1.02845586e+12]\n",
      "Host index: 140207\n",
      "Host mass: 1.03e+12\n",
      "\n",
      "_elvis_RomulusRemus\n",
      "5 largest masses:\n",
      "[1.8404226e+11 1.8870423e+11 9.1098592e+11 9.6730992e+11 1.5345071e+12]\n",
      "Host index: 45184\n",
      "Host mass: 1.53e+12\n",
      "Host 2 index: 119331\n",
      "Host 2 mass: 9.67e+11\n",
      "index 0 mass: 2.95e+06\n",
      "index 1 mass: 8.96e+07\n",
      "\n",
      "_elvis_ThelmaLouise\n",
      "5 largest masses:\n",
      "[6.1352116e+11 8.4633800e+11 1.0785212e+12 1.2704366e+12 3.3218311e+12]\n",
      "Host index: 79625\n",
      "Host mass: 1.08e+12\n",
      "Host 2 index: 36290\n",
      "Host 2 mass: 8.46e+11\n",
      "\n"
     ]
    }
   ],
   "source": [
    "gals=['_elvis_RomeoJuliet','_elvis_RomulusRemus','_elvis_ThelmaLouise']\n",
    "ress=['3500','4000','4000']\n",
    "\n",
    "def get_masses(gal,res):\n",
    "    hdirec='/data17/grenache/aalazar/FIRE/GVB/m12'+gal+'_res'+res+\\\n",
    "       '/halo/rockstar_dm/hdf5/halo_600.hdf5'\n",
    "    with h5py.File(hdirec,'r') as f:\n",
    "        show_keys=False\n",
    "        if show_keys:\n",
    "            for k in f.keys():\n",
    "                print(k)\n",
    "        ms=f['mass.vir'][:]\n",
    "        i_host=f['host.index'][0]\n",
    "        is_sorted=np.argsort(ms)\n",
    "        print('5 largest masses:')\n",
    "        print(ms[is_sorted[-5:]])\n",
    "        print('Host index: {0:d}'.format(i_host))\n",
    "        print('Host mass: {0:0.2e}'.format(ms[i_host]))\n",
    "        if 'host2.index' in f.keys():\n",
    "            i_host2=f['host2.index'][0]\n",
    "            print('Host 2 index: {0:d}'.format(i_host2))\n",
    "            print('Host 2 mass: {0:0.2e}'.format(ms[i_host2]))\n",
    "        if gal=='_elvis_RomulusRemus':\n",
    "            for i in [0,1]:\n",
    "                m=f['mass.vir'][i]\n",
    "                print('index {0:d} mass: {1:0.2e}'.format(i,m))\n",
    "    return None\n",
    "\n",
    "for g,r in zip(gals,ress):\n",
    "    print(g)\n",
    "    get_masses(g,r)\n",
    "    print('')"
   ]
  },
  {
   "cell_type": "code",
   "execution_count": 48,
   "id": "smart-window",
   "metadata": {},
   "outputs": [
    {
     "name": "stdout",
     "output_type": "stream",
     "text": [
      "45184\n"
     ]
    }
   ],
   "source": [
    "gal=gals[1]\n",
    "res=ress[1]\n",
    "hdirec='/data17/grenache/aalazar/FIRE/GVB/m12'+gal+'_res'+res+\\\n",
    "   '/halo/rockstar_dm/hdf5/halo_600.hdf5'\n",
    "with h5py.File(hdirec,'r') as f:\n",
    "        show_keys=False\n",
    "        if show_keys:\n",
    "            for k in f.keys():\n",
    "                print(k)\n",
    "        i_host=f['host.index'][0]\n",
    "        print(i_host)"
   ]
  },
  {
   "cell_type": "code",
   "execution_count": 55,
   "id": "spanish-science",
   "metadata": {},
   "outputs": [
    {
     "name": "stderr",
     "output_type": "stream",
     "text": [
      "100% |########################################################################|\n",
      "100% |########################################################################|\n",
      "100% |########################################################################|\n"
     ]
    },
    {
     "data": {
      "text/plain": [
       "(9981438.54423609,\n",
       " 890.3957655828684,\n",
       " 160.36256,\n",
       " 65.81124,\n",
       " 1028455860000.0,\n",
       " 1110622900000.0)"
      ]
     },
     "execution_count": 55,
     "metadata": {},
     "output_type": "execute_result"
    }
   ],
   "source": [
    "analyze(gals[0],ress[0],host_key='host.index')"
   ]
  },
  {
   "cell_type": "code",
   "execution_count": 87,
   "id": "removable-testimony",
   "metadata": {},
   "outputs": [],
   "source": [
    "import importlib\n",
    "importlib.reload(dm_den)\n",
    "analyze=dm_den.analyze"
   ]
  },
  {
   "cell_type": "code",
   "execution_count": 80,
   "id": "christian-therapist",
   "metadata": {},
   "outputs": [
    {
     "name": "stderr",
     "output_type": "stream",
     "text": [
      "100% |########################################################################|\n",
      "100% |########################################################################|\n",
      "100% |########################################################################|\n"
     ]
    },
    {
     "data": {
      "text/plain": [
       "(9981438.54423609,\n",
       " 890.3957655828684,\n",
       " 160.36256,\n",
       " 65.81124,\n",
       " 1028455860000.0,\n",
       " 1110622900000.0)"
      ]
     },
     "execution_count": 80,
     "metadata": {},
     "output_type": "execute_result"
    }
   ],
   "source": [
    "analyze(gals[0],ress[0],host_key='host2.index')"
   ]
  },
  {
   "cell_type": "code",
   "execution_count": 57,
   "id": "joint-defendant",
   "metadata": {},
   "outputs": [
    {
     "name": "stderr",
     "output_type": "stream",
     "text": [
      "100% |########################################################################|\n",
      "100% |########################################################################|\n",
      "100% |########################################################################|\n"
     ]
    },
    {
     "data": {
      "text/plain": [
       "(9099746.442433894,\n",
       " 770.2134440059369,\n",
       " 144.90541,\n",
       " 61.16079,\n",
       " 967309900000.0,\n",
       " 1063076000000.0)"
      ]
     },
     "execution_count": 57,
     "metadata": {},
     "output_type": "execute_result"
    }
   ],
   "source": [
    "analyze(gals[0],ress[0],host_key='host2.index')"
   ]
  },
  {
   "cell_type": "code",
   "execution_count": 57,
   "id": "advised-retention",
   "metadata": {},
   "outputs": [
    {
     "name": "stderr",
     "output_type": "stream",
     "text": [
      "100% |########################################################################|\n",
      "100% |########################################################################|\n",
      "100% |########################################################################|\n"
     ]
    },
    {
     "data": {
      "text/plain": [
       "(9099746.442433894,\n",
       " 770.2134440059369,\n",
       " 144.90541,\n",
       " 61.16079,\n",
       " 967309900000.0,\n",
       " 1063076000000.0)"
      ]
     },
     "execution_count": 57,
     "metadata": {},
     "output_type": "execute_result"
    }
   ],
   "source": [
    "analyze(gals[1],ress[1],host_key='host2.index')"
   ]
  }
 ],
 "metadata": {
  "kernelspec": {
   "display_name": "Python 3",
   "language": "python",
   "name": "python3"
  },
  "language_info": {
   "codemirror_mode": {
    "name": "ipython",
    "version": 3
   },
   "file_extension": ".py",
   "mimetype": "text/x-python",
   "name": "python",
   "nbconvert_exporter": "python",
   "pygments_lexer": "ipython3",
   "version": "3.6.8"
  }
 },
 "nbformat": 4,
 "nbformat_minor": 5
}
